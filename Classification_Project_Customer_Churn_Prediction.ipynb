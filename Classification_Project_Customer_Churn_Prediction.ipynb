{
 "cells": [
  {
   "cell_type": "markdown",
   "id": "fb87eaf0-b4a8-4134-ac39-6686b6bef886",
   "metadata": {},
   "source": [
    "# Classification Project : Customer Churn Prediction and Analysis for a Fictional Telco Company"
   ]
  },
  {
   "cell_type": "markdown",
   "id": "150f1966-76fd-4cd8-a27e-e929072ef099",
   "metadata": {},
   "source": [
    "## I. Introduction\n",
    "\n",
    "In this project, we aim to build a predictive model to determine whether customers of a fictional telecommunications company will churn. Churn analysis helps organizations understand why customers discontinue their services and what factors contribute to this decision. This analysis is crucial for improving customer retention, especially in industries like telecommunications where maintaining a stable customer base is vital.\r\n",
    "The dataset contains information about 7043 customers in California, including various demographic details, a Satisfaction Score, a Churn Score, and a Customer Lifetime Value (CLTV) index. Our task is to analyze this data, prepare it for modeling, and build a classification model to predict customer churn\r\n"
   ]
  },
  {
   "cell_type": "markdown",
   "id": "f34ebb3e-d5f7-4310-86bd-79002e9f922d",
   "metadata": {},
   "source": [
    "### II. Importing Libraries and Loading the Dataset\n",
    "\n",
    "First, we import the necessary libraries for data manipulation, visualization, preprocessing, model training, and evaluation."
   ]
  },
  {
   "cell_type": "code",
   "execution_count": 4,
   "id": "01da02e9-4a14-4e25-bde5-fa634022ec82",
   "metadata": {},
   "outputs": [],
   "source": [
    "import pandas as pd\n",
    "import numpy as np\n",
    "import seaborn as sns\n",
    "import matplotlib.pyplot as plt\n",
    "\n",
    "from sklearn.preprocessing import StandardScaler, OneHotEncoder\n",
    "from sklearn.compose import ColumnTransformer\n",
    "from sklearn.impute import SimpleImputer\n",
    "from sklearn.pipeline import Pipeline\n",
    "from sklearn.model_selection import train_test_split, GridSearchCV\n",
    "from sklearn.linear_model import LogisticRegression\n",
    "from sklearn.neighbors import KNeighborsClassifier\n",
    "from sklearn.tree import DecisionTreeClassifier\n",
    "from sklearn.ensemble import RandomForestClassifier\n",
    "from sklearn.metrics import accuracy_score, precision_score, recall_score, f1_score, confusion_matrix, classification_report"
   ]
  },
  {
   "cell_type": "code",
   "execution_count": 5,
   "id": "c611e477-c96d-43cc-bbf0-532bde6cc59b",
   "metadata": {},
   "outputs": [
    {
     "data": {
      "text/html": [
       "<div>\n",
       "<style scoped>\n",
       "    .dataframe tbody tr th:only-of-type {\n",
       "        vertical-align: middle;\n",
       "    }\n",
       "\n",
       "    .dataframe tbody tr th {\n",
       "        vertical-align: top;\n",
       "    }\n",
       "\n",
       "    .dataframe thead th {\n",
       "        text-align: right;\n",
       "    }\n",
       "</style>\n",
       "<table border=\"1\" class=\"dataframe\">\n",
       "  <thead>\n",
       "    <tr style=\"text-align: right;\">\n",
       "      <th></th>\n",
       "      <th>CustomerID</th>\n",
       "      <th>Count</th>\n",
       "      <th>Country</th>\n",
       "      <th>State</th>\n",
       "      <th>City</th>\n",
       "      <th>Zip Code</th>\n",
       "      <th>Lat Long</th>\n",
       "      <th>Latitude</th>\n",
       "      <th>Longitude</th>\n",
       "      <th>Gender</th>\n",
       "      <th>...</th>\n",
       "      <th>Contract</th>\n",
       "      <th>Paperless Billing</th>\n",
       "      <th>Payment Method</th>\n",
       "      <th>Monthly Charges</th>\n",
       "      <th>Total Charges</th>\n",
       "      <th>Churn Label</th>\n",
       "      <th>Churn Value</th>\n",
       "      <th>Churn Score</th>\n",
       "      <th>CLTV</th>\n",
       "      <th>Churn Reason</th>\n",
       "    </tr>\n",
       "  </thead>\n",
       "  <tbody>\n",
       "    <tr>\n",
       "      <th>6141</th>\n",
       "      <td>1555-HAPSU</td>\n",
       "      <td>1</td>\n",
       "      <td>United States</td>\n",
       "      <td>California</td>\n",
       "      <td>Fresno</td>\n",
       "      <td>93727</td>\n",
       "      <td>36.751489, -119.68072</td>\n",
       "      <td>36.751489</td>\n",
       "      <td>-119.680720</td>\n",
       "      <td>Female</td>\n",
       "      <td>...</td>\n",
       "      <td>Two year</td>\n",
       "      <td>No</td>\n",
       "      <td>Credit card (automatic)</td>\n",
       "      <td>23.90</td>\n",
       "      <td>1663.5</td>\n",
       "      <td>No</td>\n",
       "      <td>0</td>\n",
       "      <td>59</td>\n",
       "      <td>5471</td>\n",
       "      <td>NaN</td>\n",
       "    </tr>\n",
       "    <tr>\n",
       "      <th>3917</th>\n",
       "      <td>3470-OBUET</td>\n",
       "      <td>1</td>\n",
       "      <td>United States</td>\n",
       "      <td>California</td>\n",
       "      <td>San Jose</td>\n",
       "      <td>95123</td>\n",
       "      <td>37.238758, -121.828375</td>\n",
       "      <td>37.238758</td>\n",
       "      <td>-121.828375</td>\n",
       "      <td>Female</td>\n",
       "      <td>...</td>\n",
       "      <td>Two year</td>\n",
       "      <td>No</td>\n",
       "      <td>Credit card (automatic)</td>\n",
       "      <td>74.00</td>\n",
       "      <td>4868.4</td>\n",
       "      <td>No</td>\n",
       "      <td>0</td>\n",
       "      <td>35</td>\n",
       "      <td>4188</td>\n",
       "      <td>NaN</td>\n",
       "    </tr>\n",
       "    <tr>\n",
       "      <th>4754</th>\n",
       "      <td>5600-KTXFM</td>\n",
       "      <td>1</td>\n",
       "      <td>United States</td>\n",
       "      <td>California</td>\n",
       "      <td>Ventura</td>\n",
       "      <td>93004</td>\n",
       "      <td>34.278697, -119.167798</td>\n",
       "      <td>34.278697</td>\n",
       "      <td>-119.167798</td>\n",
       "      <td>Male</td>\n",
       "      <td>...</td>\n",
       "      <td>Month-to-month</td>\n",
       "      <td>No</td>\n",
       "      <td>Mailed check</td>\n",
       "      <td>69.95</td>\n",
       "      <td>143.9</td>\n",
       "      <td>No</td>\n",
       "      <td>0</td>\n",
       "      <td>46</td>\n",
       "      <td>5010</td>\n",
       "      <td>NaN</td>\n",
       "    </tr>\n",
       "    <tr>\n",
       "      <th>4568</th>\n",
       "      <td>8751-EDEKA</td>\n",
       "      <td>1</td>\n",
       "      <td>United States</td>\n",
       "      <td>California</td>\n",
       "      <td>Rancho Santa Fe</td>\n",
       "      <td>92091</td>\n",
       "      <td>32.99356, -117.207121</td>\n",
       "      <td>32.993560</td>\n",
       "      <td>-117.207121</td>\n",
       "      <td>Female</td>\n",
       "      <td>...</td>\n",
       "      <td>Month-to-month</td>\n",
       "      <td>No</td>\n",
       "      <td>Credit card (automatic)</td>\n",
       "      <td>89.90</td>\n",
       "      <td>2433.5</td>\n",
       "      <td>No</td>\n",
       "      <td>0</td>\n",
       "      <td>55</td>\n",
       "      <td>3676</td>\n",
       "      <td>NaN</td>\n",
       "    </tr>\n",
       "    <tr>\n",
       "      <th>147</th>\n",
       "      <td>0719-SYFRB</td>\n",
       "      <td>1</td>\n",
       "      <td>United States</td>\n",
       "      <td>California</td>\n",
       "      <td>Norco</td>\n",
       "      <td>92860</td>\n",
       "      <td>33.925833, -117.559639</td>\n",
       "      <td>33.925833</td>\n",
       "      <td>-117.559639</td>\n",
       "      <td>Female</td>\n",
       "      <td>...</td>\n",
       "      <td>Month-to-month</td>\n",
       "      <td>Yes</td>\n",
       "      <td>Mailed check</td>\n",
       "      <td>61.65</td>\n",
       "      <td>713.75</td>\n",
       "      <td>Yes</td>\n",
       "      <td>1</td>\n",
       "      <td>67</td>\n",
       "      <td>5670</td>\n",
       "      <td>Competitor offered higher download speeds</td>\n",
       "    </tr>\n",
       "    <tr>\n",
       "      <th>3164</th>\n",
       "      <td>1803-BGNBD</td>\n",
       "      <td>1</td>\n",
       "      <td>United States</td>\n",
       "      <td>California</td>\n",
       "      <td>Santa Monica</td>\n",
       "      <td>90402</td>\n",
       "      <td>34.035849, -118.503508</td>\n",
       "      <td>34.035849</td>\n",
       "      <td>-118.503508</td>\n",
       "      <td>Female</td>\n",
       "      <td>...</td>\n",
       "      <td>Month-to-month</td>\n",
       "      <td>Yes</td>\n",
       "      <td>Electronic check</td>\n",
       "      <td>54.30</td>\n",
       "      <td>654.5</td>\n",
       "      <td>No</td>\n",
       "      <td>0</td>\n",
       "      <td>63</td>\n",
       "      <td>3854</td>\n",
       "      <td>NaN</td>\n",
       "    </tr>\n",
       "    <tr>\n",
       "      <th>2139</th>\n",
       "      <td>3583-KRKMD</td>\n",
       "      <td>1</td>\n",
       "      <td>United States</td>\n",
       "      <td>California</td>\n",
       "      <td>San Diego</td>\n",
       "      <td>92115</td>\n",
       "      <td>32.762506, -117.07245</td>\n",
       "      <td>32.762506</td>\n",
       "      <td>-117.072450</td>\n",
       "      <td>Male</td>\n",
       "      <td>...</td>\n",
       "      <td>Month-to-month</td>\n",
       "      <td>Yes</td>\n",
       "      <td>Bank transfer (automatic)</td>\n",
       "      <td>75.90</td>\n",
       "      <td>1373.05</td>\n",
       "      <td>No</td>\n",
       "      <td>0</td>\n",
       "      <td>62</td>\n",
       "      <td>4668</td>\n",
       "      <td>NaN</td>\n",
       "    </tr>\n",
       "    <tr>\n",
       "      <th>5008</th>\n",
       "      <td>5939-XAIXZ</td>\n",
       "      <td>1</td>\n",
       "      <td>United States</td>\n",
       "      <td>California</td>\n",
       "      <td>Birds Landing</td>\n",
       "      <td>94512</td>\n",
       "      <td>38.140719, -121.838298</td>\n",
       "      <td>38.140719</td>\n",
       "      <td>-121.838298</td>\n",
       "      <td>Female</td>\n",
       "      <td>...</td>\n",
       "      <td>Month-to-month</td>\n",
       "      <td>Yes</td>\n",
       "      <td>Mailed check</td>\n",
       "      <td>56.10</td>\n",
       "      <td>1033.9</td>\n",
       "      <td>No</td>\n",
       "      <td>0</td>\n",
       "      <td>27</td>\n",
       "      <td>3367</td>\n",
       "      <td>NaN</td>\n",
       "    </tr>\n",
       "    <tr>\n",
       "      <th>4904</th>\n",
       "      <td>4826-TZEVA</td>\n",
       "      <td>1</td>\n",
       "      <td>United States</td>\n",
       "      <td>California</td>\n",
       "      <td>O Neals</td>\n",
       "      <td>93645</td>\n",
       "      <td>37.140104, -119.657092</td>\n",
       "      <td>37.140104</td>\n",
       "      <td>-119.657092</td>\n",
       "      <td>Female</td>\n",
       "      <td>...</td>\n",
       "      <td>Month-to-month</td>\n",
       "      <td>No</td>\n",
       "      <td>Credit card (automatic)</td>\n",
       "      <td>74.80</td>\n",
       "      <td>2971.7</td>\n",
       "      <td>No</td>\n",
       "      <td>0</td>\n",
       "      <td>52</td>\n",
       "      <td>3258</td>\n",
       "      <td>NaN</td>\n",
       "    </tr>\n",
       "    <tr>\n",
       "      <th>3927</th>\n",
       "      <td>9838-BFCQT</td>\n",
       "      <td>1</td>\n",
       "      <td>United States</td>\n",
       "      <td>California</td>\n",
       "      <td>San Jose</td>\n",
       "      <td>95139</td>\n",
       "      <td>37.218705, -121.762429</td>\n",
       "      <td>37.218705</td>\n",
       "      <td>-121.762429</td>\n",
       "      <td>Male</td>\n",
       "      <td>...</td>\n",
       "      <td>Two year</td>\n",
       "      <td>No</td>\n",
       "      <td>Mailed check</td>\n",
       "      <td>26.10</td>\n",
       "      <td>1851.45</td>\n",
       "      <td>No</td>\n",
       "      <td>0</td>\n",
       "      <td>41</td>\n",
       "      <td>5475</td>\n",
       "      <td>NaN</td>\n",
       "    </tr>\n",
       "  </tbody>\n",
       "</table>\n",
       "<p>10 rows × 33 columns</p>\n",
       "</div>"
      ],
      "text/plain": [
       "      CustomerID  Count        Country       State             City  Zip Code  \\\n",
       "6141  1555-HAPSU      1  United States  California           Fresno     93727   \n",
       "3917  3470-OBUET      1  United States  California         San Jose     95123   \n",
       "4754  5600-KTXFM      1  United States  California          Ventura     93004   \n",
       "4568  8751-EDEKA      1  United States  California  Rancho Santa Fe     92091   \n",
       "147   0719-SYFRB      1  United States  California            Norco     92860   \n",
       "3164  1803-BGNBD      1  United States  California     Santa Monica     90402   \n",
       "2139  3583-KRKMD      1  United States  California        San Diego     92115   \n",
       "5008  5939-XAIXZ      1  United States  California    Birds Landing     94512   \n",
       "4904  4826-TZEVA      1  United States  California          O Neals     93645   \n",
       "3927  9838-BFCQT      1  United States  California         San Jose     95139   \n",
       "\n",
       "                    Lat Long   Latitude   Longitude  Gender  ...  \\\n",
       "6141   36.751489, -119.68072  36.751489 -119.680720  Female  ...   \n",
       "3917  37.238758, -121.828375  37.238758 -121.828375  Female  ...   \n",
       "4754  34.278697, -119.167798  34.278697 -119.167798    Male  ...   \n",
       "4568   32.99356, -117.207121  32.993560 -117.207121  Female  ...   \n",
       "147   33.925833, -117.559639  33.925833 -117.559639  Female  ...   \n",
       "3164  34.035849, -118.503508  34.035849 -118.503508  Female  ...   \n",
       "2139   32.762506, -117.07245  32.762506 -117.072450    Male  ...   \n",
       "5008  38.140719, -121.838298  38.140719 -121.838298  Female  ...   \n",
       "4904  37.140104, -119.657092  37.140104 -119.657092  Female  ...   \n",
       "3927  37.218705, -121.762429  37.218705 -121.762429    Male  ...   \n",
       "\n",
       "            Contract Paperless Billing             Payment Method  \\\n",
       "6141        Two year                No    Credit card (automatic)   \n",
       "3917        Two year                No    Credit card (automatic)   \n",
       "4754  Month-to-month                No               Mailed check   \n",
       "4568  Month-to-month                No    Credit card (automatic)   \n",
       "147   Month-to-month               Yes               Mailed check   \n",
       "3164  Month-to-month               Yes           Electronic check   \n",
       "2139  Month-to-month               Yes  Bank transfer (automatic)   \n",
       "5008  Month-to-month               Yes               Mailed check   \n",
       "4904  Month-to-month                No    Credit card (automatic)   \n",
       "3927        Two year                No               Mailed check   \n",
       "\n",
       "      Monthly Charges Total Charges Churn Label Churn Value Churn Score  CLTV  \\\n",
       "6141            23.90        1663.5          No           0          59  5471   \n",
       "3917            74.00        4868.4          No           0          35  4188   \n",
       "4754            69.95         143.9          No           0          46  5010   \n",
       "4568            89.90        2433.5          No           0          55  3676   \n",
       "147             61.65        713.75         Yes           1          67  5670   \n",
       "3164            54.30         654.5          No           0          63  3854   \n",
       "2139            75.90       1373.05          No           0          62  4668   \n",
       "5008            56.10        1033.9          No           0          27  3367   \n",
       "4904            74.80        2971.7          No           0          52  3258   \n",
       "3927            26.10       1851.45          No           0          41  5475   \n",
       "\n",
       "                                   Churn Reason  \n",
       "6141                                        NaN  \n",
       "3917                                        NaN  \n",
       "4754                                        NaN  \n",
       "4568                                        NaN  \n",
       "147   Competitor offered higher download speeds  \n",
       "3164                                        NaN  \n",
       "2139                                        NaN  \n",
       "5008                                        NaN  \n",
       "4904                                        NaN  \n",
       "3927                                        NaN  \n",
       "\n",
       "[10 rows x 33 columns]"
      ]
     },
     "execution_count": 5,
     "metadata": {},
     "output_type": "execute_result"
    }
   ],
   "source": [
    "# Load the dataset \n",
    "\n",
    "df = pd.read_excel('churn.xlsx')\n",
    "\n",
    "# Display 10 random rows from the dataset\n",
    "\n",
    "df.sample(10)"
   ]
  },
  {
   "cell_type": "markdown",
   "id": "de071443-a6fe-41ad-b792-78af6f9e43b8",
   "metadata": {},
   "source": [
    "### III. Exploratory Data Analysis (EDA):"
   ]
  },
  {
   "cell_type": "markdown",
   "id": "a2b15d87-bdf5-4104-8616-18b05cced359",
   "metadata": {},
   "source": [
    "#### 1. Inspect the dataset"
   ]
  },
  {
   "cell_type": "code",
   "execution_count": 8,
   "id": "23100445-1a0c-46d2-be00-c1ad680fdbb4",
   "metadata": {},
   "outputs": [
    {
     "name": "stdout",
     "output_type": "stream",
     "text": [
      "<class 'pandas.core.frame.DataFrame'>\n",
      "RangeIndex: 7043 entries, 0 to 7042\n",
      "Data columns (total 33 columns):\n",
      " #   Column             Non-Null Count  Dtype  \n",
      "---  ------             --------------  -----  \n",
      " 0   CustomerID         7043 non-null   object \n",
      " 1   Count              7043 non-null   int64  \n",
      " 2   Country            7043 non-null   object \n",
      " 3   State              7043 non-null   object \n",
      " 4   City               7043 non-null   object \n",
      " 5   Zip Code           7043 non-null   int64  \n",
      " 6   Lat Long           7043 non-null   object \n",
      " 7   Latitude           7043 non-null   float64\n",
      " 8   Longitude          7043 non-null   float64\n",
      " 9   Gender             7043 non-null   object \n",
      " 10  Senior Citizen     7043 non-null   object \n",
      " 11  Partner            7043 non-null   object \n",
      " 12  Dependents         7043 non-null   object \n",
      " 13  Tenure Months      7043 non-null   int64  \n",
      " 14  Phone Service      7043 non-null   object \n",
      " 15  Multiple Lines     7043 non-null   object \n",
      " 16  Internet Service   7043 non-null   object \n",
      " 17  Online Security    7043 non-null   object \n",
      " 18  Online Backup      7043 non-null   object \n",
      " 19  Device Protection  7043 non-null   object \n",
      " 20  Tech Support       7043 non-null   object \n",
      " 21  Streaming TV       7043 non-null   object \n",
      " 22  Streaming Movies   7043 non-null   object \n",
      " 23  Contract           7043 non-null   object \n",
      " 24  Paperless Billing  7043 non-null   object \n",
      " 25  Payment Method     7043 non-null   object \n",
      " 26  Monthly Charges    7043 non-null   float64\n",
      " 27  Total Charges      7043 non-null   object \n",
      " 28  Churn Label        7043 non-null   object \n",
      " 29  Churn Value        7043 non-null   int64  \n",
      " 30  Churn Score        7043 non-null   int64  \n",
      " 31  CLTV               7043 non-null   int64  \n",
      " 32  Churn Reason       1869 non-null   object \n",
      "dtypes: float64(3), int64(6), object(24)\n",
      "memory usage: 1.8+ MB\n"
     ]
    }
   ],
   "source": [
    "# Inspect the dataset to understand its structure and data types\n",
    "\n",
    "df.info()"
   ]
  },
  {
   "cell_type": "markdown",
   "id": "44b880dd-ae17-4e23-9ad2-eaee9bb74e1a",
   "metadata": {},
   "source": [
    "+ **Dataset:**\n",
    "\n",
    "    - **Total Entries:** The dataset consists of 7043 entries, representing individual customers.\n",
    "\n",
    "    - **Data Columns:** There are 33 columns in the dataset, which include a variety of demographic, service-related, and churn-related information.\n",
    "\n",
    "    - **Non-Null Count:** Most columns have 7043 non-null values, indicating no missing data for these columns. The \"Churn Reason\" column has only 1869 non-null values, meaning a significant portion of this column contains missing values.\n",
    " \n",
    "+ **Data Types:**\n",
    "\n",
    "    - **Object:** 24 columns are of type object. These include categorical features such as 'CustomerID', 'Country', 'State', 'City', 'Gender', etc.\n",
    "\n",
    "    - **Int64:** 6 columns are of type int64. These include numerical features such as 'Count', 'Zip Code', 'Tenure Months', 'Churn Value', 'Churn Score', and 'CLTV'.\n",
    "\n",
    "    - **Float64:** 3 columns are of type float64. These include numerical features such as 'Latitude', 'Longitude', and 'Monthly Charges'.\n",
    "\n",
    "+ **Notes :**\n",
    "\n",
    "    - **CustomerID:** Each entry has a unique customer ID.\n",
    "    \n",
    "    - **Count, Country, State:** These columns have consistent non-null values indicating they are constant across all records.\n",
    "    \n",
    "    - **Latitude, Longitude:** Geographical coordinates are in float64 format, which is appropriate.\n",
    "    \n",
    "    - **Monthly Charges: Also correctly in float64 format.**\n",
    "    \n",
    "    - **Total Charges:** This column is currently of type object and should be converted to a numerical type.\n",
    "    \n",
    "    - **Churn Reason:** Contains a significant number of missing values (only 1869 non-null out of 7043), which needs to be addressed in the data cleaning process."
   ]
  },
  {
   "cell_type": "markdown",
   "id": "ff4c8e2e-f943-416d-90e2-bdd778a557d3",
   "metadata": {},
   "source": [
    "#### 2. Handling Missing Values and Data Type Conversion"
   ]
  },
  {
   "cell_type": "code",
   "execution_count": 11,
   "id": "0e665055-02d2-4d2d-a53e-85e2bbf85983",
   "metadata": {},
   "outputs": [
    {
     "data": {
      "text/html": [
       "<div>\n",
       "<style scoped>\n",
       "    .dataframe tbody tr th:only-of-type {\n",
       "        vertical-align: middle;\n",
       "    }\n",
       "\n",
       "    .dataframe tbody tr th {\n",
       "        vertical-align: top;\n",
       "    }\n",
       "\n",
       "    .dataframe thead th {\n",
       "        text-align: right;\n",
       "    }\n",
       "</style>\n",
       "<table border=\"1\" class=\"dataframe\">\n",
       "  <thead>\n",
       "    <tr style=\"text-align: right;\">\n",
       "      <th></th>\n",
       "      <th>CustomerID</th>\n",
       "      <th>Total Charges</th>\n",
       "      <th>Tenure Months</th>\n",
       "      <th>Churn Score</th>\n",
       "    </tr>\n",
       "  </thead>\n",
       "  <tbody>\n",
       "    <tr>\n",
       "      <th>2234</th>\n",
       "      <td>4472-LVYGI</td>\n",
       "      <td></td>\n",
       "      <td>0</td>\n",
       "      <td>36</td>\n",
       "    </tr>\n",
       "    <tr>\n",
       "      <th>2438</th>\n",
       "      <td>3115-CZMZD</td>\n",
       "      <td></td>\n",
       "      <td>0</td>\n",
       "      <td>68</td>\n",
       "    </tr>\n",
       "    <tr>\n",
       "      <th>2568</th>\n",
       "      <td>5709-LVOEQ</td>\n",
       "      <td></td>\n",
       "      <td>0</td>\n",
       "      <td>45</td>\n",
       "    </tr>\n",
       "    <tr>\n",
       "      <th>2667</th>\n",
       "      <td>4367-NUYAO</td>\n",
       "      <td></td>\n",
       "      <td>0</td>\n",
       "      <td>48</td>\n",
       "    </tr>\n",
       "    <tr>\n",
       "      <th>2856</th>\n",
       "      <td>1371-DWPAZ</td>\n",
       "      <td></td>\n",
       "      <td>0</td>\n",
       "      <td>30</td>\n",
       "    </tr>\n",
       "    <tr>\n",
       "      <th>4331</th>\n",
       "      <td>7644-OMVMY</td>\n",
       "      <td></td>\n",
       "      <td>0</td>\n",
       "      <td>53</td>\n",
       "    </tr>\n",
       "    <tr>\n",
       "      <th>4687</th>\n",
       "      <td>3213-VVOLG</td>\n",
       "      <td></td>\n",
       "      <td>0</td>\n",
       "      <td>49</td>\n",
       "    </tr>\n",
       "    <tr>\n",
       "      <th>5104</th>\n",
       "      <td>2520-SGTTA</td>\n",
       "      <td></td>\n",
       "      <td>0</td>\n",
       "      <td>27</td>\n",
       "    </tr>\n",
       "    <tr>\n",
       "      <th>5719</th>\n",
       "      <td>2923-ARZLG</td>\n",
       "      <td></td>\n",
       "      <td>0</td>\n",
       "      <td>69</td>\n",
       "    </tr>\n",
       "    <tr>\n",
       "      <th>6772</th>\n",
       "      <td>4075-WKNIU</td>\n",
       "      <td></td>\n",
       "      <td>0</td>\n",
       "      <td>44</td>\n",
       "    </tr>\n",
       "    <tr>\n",
       "      <th>6840</th>\n",
       "      <td>2775-SEFEE</td>\n",
       "      <td></td>\n",
       "      <td>0</td>\n",
       "      <td>65</td>\n",
       "    </tr>\n",
       "  </tbody>\n",
       "</table>\n",
       "</div>"
      ],
      "text/plain": [
       "      CustomerID Total Charges  Tenure Months  Churn Score\n",
       "2234  4472-LVYGI                            0           36\n",
       "2438  3115-CZMZD                            0           68\n",
       "2568  5709-LVOEQ                            0           45\n",
       "2667  4367-NUYAO                            0           48\n",
       "2856  1371-DWPAZ                            0           30\n",
       "4331  7644-OMVMY                            0           53\n",
       "4687  3213-VVOLG                            0           49\n",
       "5104  2520-SGTTA                            0           27\n",
       "5719  2923-ARZLG                            0           69\n",
       "6772  4075-WKNIU                            0           44\n",
       "6840  2775-SEFEE                            0           65"
      ]
     },
     "execution_count": 11,
     "metadata": {},
     "output_type": "execute_result"
    }
   ],
   "source": [
    "df[df['Total Charges'] == ' '][['CustomerID', 'Total Charges', 'Tenure Months', 'Churn Score']]"
   ]
  },
  {
   "cell_type": "markdown",
   "id": "3b9e0df1-becd-4255-bef0-03773db1e123",
   "metadata": {},
   "source": [
    "Customers with no value in total charges col because they have 0 tenure months which means they are new to the company, so we can fill in with 0 on these missing values and then convert to numeric type"
   ]
  },
  {
   "cell_type": "code",
   "execution_count": 13,
   "id": "39175d77-383b-4fd8-b317-a3ee46a700f7",
   "metadata": {},
   "outputs": [],
   "source": [
    "# Replace ' ' to '0'\n",
    "\n",
    "df['Total Charges'] = df['Total Charges'].replace(' ', '0')"
   ]
  },
  {
   "cell_type": "code",
   "execution_count": 14,
   "id": "06fadf08-7f7c-49dc-8af8-3aef4f184fc6",
   "metadata": {},
   "outputs": [],
   "source": [
    "# Fill missing values in \"Churn Reason\" with \"Unknown\"\n",
    "\n",
    "df['Churn Reason'] = df['Churn Reason'].fillna('Unknown')"
   ]
  },
  {
   "cell_type": "code",
   "execution_count": 15,
   "id": "a9ad3bfc-3ef4-4d41-bf34-0be9f329171d",
   "metadata": {},
   "outputs": [
    {
     "data": {
      "text/plain": [
       "CustomerID            object\n",
       "Count                  int64\n",
       "Country               object\n",
       "State                 object\n",
       "City                  object\n",
       "Zip Code               int64\n",
       "Lat Long              object\n",
       "Latitude             float64\n",
       "Longitude            float64\n",
       "Gender                object\n",
       "Senior Citizen        object\n",
       "Partner               object\n",
       "Dependents            object\n",
       "Tenure Months          int64\n",
       "Phone Service         object\n",
       "Multiple Lines        object\n",
       "Internet Service      object\n",
       "Online Security       object\n",
       "Online Backup         object\n",
       "Device Protection     object\n",
       "Tech Support          object\n",
       "Streaming TV          object\n",
       "Streaming Movies      object\n",
       "Contract              object\n",
       "Paperless Billing     object\n",
       "Payment Method        object\n",
       "Monthly Charges      float64\n",
       "Total Charges        float64\n",
       "Churn Label           object\n",
       "Churn Value            int64\n",
       "Churn Score            int64\n",
       "CLTV                   int64\n",
       "Churn Reason          object\n",
       "dtype: object"
      ]
     },
     "execution_count": 15,
     "metadata": {},
     "output_type": "execute_result"
    }
   ],
   "source": [
    "# Convert \"Total Charges\" to numeric\n",
    "\n",
    "df['Total Charges'] = pd.to_numeric(df['Total Charges'], errors='coerce')\n",
    "\n",
    "# Recheck data types\n",
    "\n",
    "df.dtypes"
   ]
  },
  {
   "cell_type": "code",
   "execution_count": 16,
   "id": "4b25a9c2-c229-471d-813f-4a1c24ec64ce",
   "metadata": {},
   "outputs": [
    {
     "data": {
      "text/plain": [
       "CustomerID           0\n",
       "Count                0\n",
       "Country              0\n",
       "State                0\n",
       "City                 0\n",
       "Zip Code             0\n",
       "Lat Long             0\n",
       "Latitude             0\n",
       "Longitude            0\n",
       "Gender               0\n",
       "Senior Citizen       0\n",
       "Partner              0\n",
       "Dependents           0\n",
       "Tenure Months        0\n",
       "Phone Service        0\n",
       "Multiple Lines       0\n",
       "Internet Service     0\n",
       "Online Security      0\n",
       "Online Backup        0\n",
       "Device Protection    0\n",
       "Tech Support         0\n",
       "Streaming TV         0\n",
       "Streaming Movies     0\n",
       "Contract             0\n",
       "Paperless Billing    0\n",
       "Payment Method       0\n",
       "Monthly Charges      0\n",
       "Total Charges        0\n",
       "Churn Label          0\n",
       "Churn Value          0\n",
       "Churn Score          0\n",
       "CLTV                 0\n",
       "Churn Reason         0\n",
       "dtype: int64"
      ]
     },
     "execution_count": 16,
     "metadata": {},
     "output_type": "execute_result"
    }
   ],
   "source": [
    "df.isna().sum()"
   ]
  },
  {
   "cell_type": "markdown",
   "id": "174a086a-5977-4815-a6f7-de1a3c020d36",
   "metadata": {},
   "source": [
    "+ **Handling Missing Values:**\n",
    "\n",
    "    - The missing values in the \"Churn Reason\" column are filled with the string 'Unknown'.\n",
    "\n",
    "+ **Data Type Conversion:**\n",
    "\n",
    "    - The \"Total Charges\" column, initially of type object, is converted to a numeric type (float64)."
   ]
  },
  {
   "cell_type": "markdown",
   "id": "59eb1ba0-3aed-4e9b-a851-d756017c89d6",
   "metadata": {},
   "source": [
    "### 3. Data Visualization"
   ]
  },
  {
   "cell_type": "markdown",
   "id": "9bc2d8dd-5c32-4fd1-9716-6090d632a3d6",
   "metadata": {},
   "source": [
    "#### 3.1. Distribution of the Target Variable (Churn)"
   ]
  },
  {
   "cell_type": "code",
   "execution_count": 20,
   "id": "8f2a44e3-b633-46a4-ab32-ca312565823b",
   "metadata": {},
   "outputs": [
    {
     "data": {
      "image/png": "[encoded data removed]",
      "text/plain": [
       "<Figure size 800x600 with 1 Axes>"
      ]
     },
     "metadata": {},
     "output_type": "display_data"
    }
   ],
   "source": [
    "# Distribution of the target variable (Churn)\n",
    "\n",
    "plt.figure(figsize=(8, 6))\n",
    "sns.countplot(data=df, x='Churn Label')\n",
    "plt.title('Distribution of Churn')\n",
    "plt.show()"
   ]
  },
  {
   "cell_type": "markdown",
   "id": "66275629-8acc-4b4e-9d63-9343a4151382",
   "metadata": {},
   "source": [
    "+ The count plot shows that the majority of customers have not churned (\"No\" appears 5174 times) compared to those who have churned (\"Yes\" appears 1869 times).\n",
    "\n",
    "+ This imbalance means that non-churned customers constitute about 73.5% of the total customer base, while churned customers make up about 26.5%."
   ]
  },
  {
   "cell_type": "markdown",
   "id": "1a1368fe-ce0a-41c6-9fc9-8f4a3bde1350",
   "metadata": {},
   "source": [
    "#### 3.2. Visualize the Distribution of Numerical Features"
   ]
  },
  {
   "cell_type": "code",
   "execution_count": 23,
   "id": "b74cb26c-a81c-4c71-bf76-71b3dbc22c93",
   "metadata": {},
   "outputs": [
    {
     "data": {
      "image/png": "[encoded data removed]",
      "text/plain": [
       "<Figure size 1500x1000 with 6 Axes>"
      ]
     },
     "metadata": {},
     "output_type": "display_data"
    }
   ],
   "source": [
    "numerical_features = ['Tenure Months', 'Monthly Charges', 'Total Charges', 'Churn Score', 'CLTV']\n",
    "df[numerical_features].hist(figsize=(15, 10), bins=20)\n",
    "plt.show()"
   ]
  },
  {
   "cell_type": "markdown",
   "id": "b90476d7-7464-4fe2-98ae-2d9b12aee56f",
   "metadata": {},
   "source": [
    "+ **Tenure Months:**\n",
    "\n",
    "The distribution shows the tenure of customers in months. There is a relatively even distribution with slight peaks at certain points, possibly indicating some customers stay longer due to specific contracts or loyalty.\n",
    "\n",
    "+ **Monthly Charges:**\n",
    "\n",
    "The distribution of monthly charges shows a concentration of values around 20-100.There are peaks at around 20-30 and 70-100, indicating common pricing tiers or service packages.\n",
    "\n",
    "+ **Total Charges:**\n",
    "\n",
    "The distribution of total charges shows a right-skewed distribution. Most customers have total charges below $4000, with a few high-paying customers driving the tail.\n",
    "\n",
    "+ **Churn Score:**\n",
    "\n",
    "The churn score distribution is roughly uniform, indicating a spread of churn likelihood across different customers. The scores range from low to high, with no particular concentration, suggesting various risk levels across the customer base.\n",
    "\n",
    "+ **CLTV (Customer Lifetime Value):**\n",
    "\n",
    "The CLTV distribution is also right-skewed. Most customers have a CLTV below $5000, with a smaller number having significantly higher values, indicating their importance to the company."
   ]
  },
  {
   "cell_type": "markdown",
   "id": "52d8a2aa-4ec3-4bc1-ab0e-d13fe110a336",
   "metadata": {},
   "source": [
    "#### 3.3. Relationship of Churn with Total Charges "
   ]
  },
  {
   "cell_type": "code",
   "execution_count": 26,
   "id": "113d4282-16ab-453a-a28f-503395c32d15",
   "metadata": {},
   "outputs": [
    {
     "data": {
      "image/png": "[encoded data removed]",
      "text/plain": [
       "<Figure size 1000x600 with 1 Axes>"
      ]
     },
     "metadata": {},
     "output_type": "display_data"
    }
   ],
   "source": [
    "plt.figure(figsize=(10, 6))\n",
    "sns.histplot(data=df, x='Total Charges', hue='Churn Value', hue_order=[1,0], multiple='dodge', stat='proportion')\n",
    "plt.title('Relationship between Churn and Total Charges')\n",
    "plt.xlabel('Total Charges')\n",
    "plt.show()"
   ]
  },
  {
   "cell_type": "markdown",
   "id": "6a49a91a-5ee7-4feb-9323-79a556cf5a37",
   "metadata": {},
   "source": [
    "- There is a higher likelihood of churn among customers with lower total charges.\n",
    "- Customers with higher total charges are less likely to churn.\n",
    "- The proportion of non-churn customers increases steadily as total charges increase.\n",
    "\n",
    "This suggests that customers with higher total charges are more likely to remain with the service, potentially indicating satisfaction with the service or greater investment in it. Conversely, customers with lower total charges might be less engaged or satisfied, leading to a higher likelihood of churn."
   ]
  },
  {
   "cell_type": "markdown",
   "id": "daac318b-e7c3-4bcd-9696-c9d43deaba02",
   "metadata": {},
   "source": [
    "#### 3.4. Relationship of Churn with Senior Citizen"
   ]
  },
  {
   "cell_type": "code",
   "execution_count": 29,
   "id": "750ae62e-1ade-4476-81b2-825c6529d1f4",
   "metadata": {},
   "outputs": [
    {
     "data": {
      "image/png": "[encoded data removed]",
      "text/plain": [
       "<Figure size 640x480 with 1 Axes>"
      ]
     },
     "metadata": {},
     "output_type": "display_data"
    }
   ],
   "source": [
    "sns.countplot(x='Senior Citizen', hue='Churn Value', data=df)\n",
    "plt.title('Senior Citizens Churn vs. Non-Churn')\n",
    "plt.xlabel('Senior Citizen')\n",
    "plt.ylabel('Count')\n",
    "plt.legend(title='Churn', loc='upper right')\n",
    "plt.show()"
   ]
  },
  {
   "cell_type": "code",
   "execution_count": 30,
   "id": "eb41d708-6234-4dab-8793-457c9b01792e",
   "metadata": {},
   "outputs": [],
   "source": [
    "# Define a function to calculate the Churn rate\n",
    "def calculate_churn_rate(df, group_col, group_val, churn_col='Churn Value', churn_val=1, inverse=False):\n",
    "    \n",
    "    # Filter the DataFrame for the specified group or its inverse\n",
    "    if inverse:\n",
    "        group = df[df[group_col] != group_val]\n",
    "    else:\n",
    "        group = df[df[group_col] == group_val]\n",
    "    \n",
    "    # Filter the group for those who have churned\n",
    "    group_churn = group[group[churn_col] == churn_val]\n",
    "    \n",
    "    # Calculate the percentage of the specified group who have churned\n",
    "    percentage_of_group_churn = len(group_churn) / len(group) if len(group) > 0 else 0\n",
    "    \n",
    "    return percentage_of_group_churn"
   ]
  },
  {
   "cell_type": "code",
   "execution_count": 31,
   "id": "1fb8eaab-b8c2-4a99-889c-e1b46f646021",
   "metadata": {},
   "outputs": [
    {
     "name": "stdout",
     "output_type": "stream",
     "text": [
      "% of churn in Senior Citizen:  0.4168\n",
      "% of churn in Non-Senior Citizen:  0.2361\n"
     ]
    }
   ],
   "source": [
    "# Calculate the churn rate in the Senior Citizen col\n",
    "percentage_of_senior_churn = calculate_churn_rate(df, group_col='Senior Citizen', group_val='Yes')\n",
    "percentage_of_non_senior_churn = calculate_churn_rate(df, group_col='Senior Citizen', group_val='Yes', inverse=True)\n",
    "\n",
    "print(f'% of churn in Senior Citizen: {percentage_of_senior_churn: .4f}')\n",
    "print(f'% of churn in Non-Senior Citizen: {percentage_of_non_senior_churn: .4f}')"
   ]
  },
  {
   "cell_type": "markdown",
   "id": "c98ea0e1-e14a-4929-9603-ab0fe5c22f64",
   "metadata": {},
   "source": [
    "- ***Churn among Senior Citizens:*** 41.68%\n",
    "- ***Churn among Non-Senior Citizens:*** 23.61%\n",
    "\n",
    "Senior citizens have a significantly higher churn rate (41.68%) compared to non-senior citizens (23.61%). This indicates that senior citizens are more likely to leave the service compared to their younger counterparts. Therefore, the company may need to tailor their stratigies to give more support for seniors and ensure the service is  user-friendly and accessible."
   ]
  },
  {
   "cell_type": "markdown",
   "id": "fb2791b9-8f26-48e8-941a-5d4a735e98a5",
   "metadata": {},
   "source": [
    "#### 3.5 Relationship of Churn with Dependents"
   ]
  },
  {
   "cell_type": "code",
   "execution_count": 34,
   "id": "9e1d0ccb-9940-4154-acd1-5542bd272523",
   "metadata": {},
   "outputs": [
    {
     "data": {
      "image/png": "[encoded data removed]",
      "text/plain": [
       "<Figure size 1000x600 with 1 Axes>"
      ]
     },
     "metadata": {},
     "output_type": "display_data"
    }
   ],
   "source": [
    "plt.figure(figsize=(10, 6))\n",
    "sns.countplot(x='Dependents', hue='Churn Value', data=df)\n",
    "plt.title('Dependents vs Churn')\n",
    "plt.xlabel('Dependents')\n",
    "plt.ylabel('Count')\n",
    "plt.legend(title='Churn')\n",
    "plt.show()"
   ]
  },
  {
   "cell_type": "code",
   "execution_count": 35,
   "id": "56456310-4614-41f4-ac4e-1360ebd3f4ed",
   "metadata": {},
   "outputs": [
    {
     "name": "stdout",
     "output_type": "stream",
     "text": [
      "% of churn in Dependents:  0.0652\n",
      "% of churn in Non-Dependents:  0.3255\n"
     ]
    }
   ],
   "source": [
    "# Calculate the Churn rate in the Dependents col\n",
    "percentage_of_dependents_churn = calculate_churn_rate(df, group_col='Dependents', group_val='Yes')\n",
    "percentage_of_non_dependents_churn = calculate_churn_rate(df, group_col='Dependents', group_val='Yes', inverse=True)\n",
    "\n",
    "print(f'% of churn in Dependents: {percentage_of_dependents_churn: .4f}')\n",
    "print(f'% of churn in Non-Dependents: {percentage_of_non_dependents_churn: .4f}')"
   ]
  },
  {
   "cell_type": "markdown",
   "id": "7e6e476d-8072-439b-be4d-d61d5dff2c4a",
   "metadata": {},
   "source": [
    "- ***Churn among Dependents:*** 6.52%\n",
    "- ***Churn among Non-Dependents:*** 32.55%\n",
    "\n",
    "Customers with dependents have a significantly lower churn rate (6.52%) compared to those without dependents (32.55%). This suggests that customers with dependents are more likely to stay with the service. The company may should give special offers or loyalty programs to increase retention. Sending out surveys or feedback mechanisms to identify and mitigate reasons for dissatisfaction."
   ]
  },
  {
   "cell_type": "markdown",
   "id": "600c42fe-3fa7-430d-bac2-b32d9dfdd06a",
   "metadata": {},
   "source": [
    "### IV. Model Training and Evaluation:"
   ]
  },
  {
   "cell_type": "markdown",
   "id": "214fcb46-957e-469b-ad22-7301600618dc",
   "metadata": {},
   "source": [
    "### 1. Prepare Data "
   ]
  },
  {
   "cell_type": "code",
   "execution_count": 39,
   "id": "81e75b70-3168-42e4-848f-8e6a93b87c51",
   "metadata": {},
   "outputs": [],
   "source": [
    "# Create a copy of the original df\n",
    "\n",
    "df = df.copy()\n",
    "\n",
    "# Drop the redudant cols\n",
    "\n",
    "cols_to_drop = ['CustomerID', 'Count', 'Country', \n",
    "                'State', 'City', 'Zip Code', \n",
    "                'Lat Long', 'Latitude', 'Longitude',\n",
    "                'Churn Label', 'Churn Reason']\n",
    "\n",
    "df1 = df.drop(columns=cols_to_drop)"
   ]
  },
  {
   "cell_type": "markdown",
   "id": "49b269ff-6575-4882-b8e1-47d39e68d84b",
   "metadata": {},
   "source": [
    "+ 'Customer ID', and 'Count' is used to count the number of customers, and do not affect our y target\n",
    "+ 'Country' has only one value 'United States'\n",
    "+ 'State' has only one value 'California'\n",
    "+ 'Churn Label' has the same value counts as 'Churn Value'\n",
    "+ 'Churn Reason' is only initialized when the Churn Value is 1 so it's not useful to help us predict target y \n",
    "+ 'Lat Long' is the combination of 'Latitude' and 'Longitude', so drop it"
   ]
  },
  {
   "cell_type": "code",
   "execution_count": 41,
   "id": "01c50451-2085-4490-bf6e-667f00aa391a",
   "metadata": {},
   "outputs": [],
   "source": [
    "# Identify Categorical and Numerical Features\n",
    "\n",
    "# Create a new df with encoded cols\n",
    "\n",
    "cols_to_enco = ['Gender', 'Senior Citizen', 'Partner', 'Dependents', \n",
    "                'Phone Service', 'Multiple Lines', 'Internet Service', \n",
    "                'Online Security', 'Online Backup', 'Device Protection', \n",
    "                'Tech Support', 'Streaming TV', 'Streaming Movies',\n",
    "                'Contract', 'Paperless Billing', 'Payment Method' ]\n",
    "\n",
    "encoder = OneHotEncoder(sparse_output=False, drop='first')\n",
    "\n",
    "# Fit and transform the data\n",
    "encoded_columns = encoder.fit_transform(df[cols_to_enco])\n",
    "\n",
    "# Create a DataFrame with the encoded columns\n",
    "encoded_df = pd.DataFrame(encoded_columns, columns=encoder.get_feature_names_out(cols_to_enco))\n",
    "\n",
    "# Combine the original DataFrame (excluding the columns that were encoded) with the new encoded DataFrame\n",
    "df_encoded = pd.concat([df1.drop(columns=cols_to_enco), encoded_df], axis=1)"
   ]
  },
  {
   "cell_type": "code",
   "execution_count": 42,
   "id": "8b0e19e0-1094-4a0a-a2ea-3ba1a0445e6f",
   "metadata": {},
   "outputs": [
    {
     "data": {
      "text/plain": [
       "Index(['Tenure Months', 'Monthly Charges', 'Total Charges', 'Churn Value',\n",
       "       'Churn Score', 'CLTV', 'Gender_Male', 'Senior Citizen_Yes',\n",
       "       'Partner_Yes', 'Dependents_Yes', 'Phone Service_Yes',\n",
       "       'Multiple Lines_No phone service', 'Multiple Lines_Yes',\n",
       "       'Internet Service_Fiber optic', 'Internet Service_No',\n",
       "       'Online Security_No internet service', 'Online Security_Yes',\n",
       "       'Online Backup_No internet service', 'Online Backup_Yes',\n",
       "       'Device Protection_No internet service', 'Device Protection_Yes',\n",
       "       'Tech Support_No internet service', 'Tech Support_Yes',\n",
       "       'Streaming TV_No internet service', 'Streaming TV_Yes',\n",
       "       'Streaming Movies_No internet service', 'Streaming Movies_Yes',\n",
       "       'Contract_One year', 'Contract_Two year', 'Paperless Billing_Yes',\n",
       "       'Payment Method_Credit card (automatic)',\n",
       "       'Payment Method_Electronic check', 'Payment Method_Mailed check'],\n",
       "      dtype='object')"
      ]
     },
     "execution_count": 42,
     "metadata": {},
     "output_type": "execute_result"
    }
   ],
   "source": [
    "df_encoded.columns"
   ]
  },
  {
   "cell_type": "code",
   "execution_count": 43,
   "id": "ae42af6f-396e-4b3a-8b4b-ed8c88294db4",
   "metadata": {},
   "outputs": [
    {
     "data": {
      "text/plain": [
       "<Axes: xlabel='Monthly_Tenure_Product', ylabel='Total Charges'>"
      ]
     },
     "execution_count": 43,
     "metadata": {},
     "output_type": "execute_result"
    },
    {
     "data": {
      "image/png": "[encoded data removed]",
      "text/plain": [
       "<Figure size 640x480 with 1 Axes>"
      ]
     },
     "metadata": {},
     "output_type": "display_data"
    }
   ],
   "source": [
    "# Scatterplot showing the relationship of 'Monthly Charges'*'Tenure Months' and 'Total Charges'\n",
    "\n",
    "# Create a new column \n",
    "df['Monthly_Tenure_Product'] = df['Monthly Charges'] * df['Tenure Months']\n",
    "# Scatterplot\n",
    "sns.scatterplot(data=df, x='Monthly_Tenure_Product', y='Total Charges')"
   ]
  },
  {
   "cell_type": "markdown",
   "id": "eb91501e-ca50-4049-a9d3-1eacb10eb37d",
   "metadata": {},
   "source": [
    "Based on the plot, the product of Monthly Charges and Tenure Months shows a linear relationship with Total Charges. Since this relationship is linear and straightforward, including the Total Charges column might introduce redundancy in the data. Therefore, we decide to drop 'Total Charges' from our model."
   ]
  },
  {
   "cell_type": "markdown",
   "id": "89de0f37-5e24-46b0-8e4f-3d25d6c0fc80",
   "metadata": {},
   "source": [
    "***Features Selection***\n",
    "\n",
    "- Add On Service: Online Security, Online Backup, Device Protection, Tech Support, Streaming TV, Streaming Movies\n",
    "- Payment Method: Credit Card(automatic), Bank Transfer(automatic), Electronic Check, Mail Check\n",
    "- Paperless Billing\n",
    "\n",
    "\n",
    "***Summary***: \n",
    "We decide to drop all add-on services, Payment Method, and Paperless Billing cols based on Classification report results, which will show at the end."
   ]
  },
  {
   "cell_type": "code",
   "execution_count": 46,
   "id": "a1fa96e7-cbc5-4ecc-aaef-fc0c1bdf6f96",
   "metadata": {},
   "outputs": [],
   "source": [
    "cols_to_drop =['Total Charges', 'Multiple Lines_No phone service',\n",
    "               'Online Security_No internet service', \n",
    "               'Online Security_Yes',\n",
    "               'Online Backup_No internet service', \n",
    "               'Online Backup_Yes',\n",
    "               'Device Protection_No internet service', \n",
    "               'Device Protection_Yes',\n",
    "               'Tech Support_No internet service', \n",
    "               'Tech Support_Yes',\n",
    "               'Streaming TV_No internet service', \n",
    "               'Streaming TV_Yes',\n",
    "               'Streaming Movies_No internet service',\n",
    "               'Streaming Movies_Yes',\n",
    "               'Paperless Billing_Yes',\n",
    "               'Payment Method_Credit card (automatic)',\n",
    "               'Payment Method_Electronic check', \n",
    "               'Payment Method_Mailed check']\n",
    "\n",
    "df_encoded = df_encoded.drop(columns=cols_to_drop)"
   ]
  },
  {
   "cell_type": "code",
   "execution_count": 47,
   "id": "6522a80c-48a0-4cfe-b54f-02022ae8b080",
   "metadata": {},
   "outputs": [
    {
     "data": {
      "text/plain": [
       "Index(['Tenure Months', 'Monthly Charges', 'Churn Value', 'Churn Score',\n",
       "       'CLTV', 'Gender_Male', 'Senior Citizen_Yes', 'Partner_Yes',\n",
       "       'Dependents_Yes', 'Phone Service_Yes', 'Multiple Lines_Yes',\n",
       "       'Internet Service_Fiber optic', 'Internet Service_No',\n",
       "       'Contract_One year', 'Contract_Two year'],\n",
       "      dtype='object')"
      ]
     },
     "execution_count": 47,
     "metadata": {},
     "output_type": "execute_result"
    }
   ],
   "source": [
    "df_encoded.columns"
   ]
  },
  {
   "cell_type": "markdown",
   "id": "4b4819d1-c540-444a-a627-761ccc547048",
   "metadata": {},
   "source": [
    "### 2. First Model - KNN "
   ]
  },
  {
   "cell_type": "code",
   "execution_count": 49,
   "id": "ac1d63b8-3aaf-426c-b05f-bdf16380caaa",
   "metadata": {},
   "outputs": [
    {
     "name": "stdout",
     "output_type": "stream",
     "text": [
      "Best Parameters: {'memory': None, 'steps': [('scaler', StandardScaler()), ('knn', KNeighborsClassifier(n_neighbors=15, p=1.0, weights='distance'))], 'verbose': False, 'scaler': StandardScaler(), 'knn': KNeighborsClassifier(n_neighbors=15, p=1.0, weights='distance'), 'scaler__copy': True, 'scaler__with_mean': True, 'scaler__with_std': True, 'knn__algorithm': 'auto', 'knn__leaf_size': 30, 'knn__metric': 'minkowski', 'knn__metric_params': None, 'knn__n_jobs': None, 'knn__n_neighbors': 15, 'knn__p': 1.0, 'knn__weights': 'distance'}\n",
      "\n",
      "\n",
      "Confusion Matrix:\n",
      "[[705  60]\n",
      " [ 60 232]]\n",
      "\n",
      "\n",
      "Classification Report:\n",
      "              precision    recall  f1-score   support\n",
      "\n",
      "           0       0.92      0.92      0.92       765\n",
      "           1       0.79      0.79      0.79       292\n",
      "\n",
      "    accuracy                           0.89      1057\n",
      "   macro avg       0.86      0.86      0.86      1057\n",
      "weighted avg       0.89      0.89      0.89      1057\n",
      "\n"
     ]
    }
   ],
   "source": [
    "# Separate X and y features\n",
    "X = df_encoded.drop('Churn Value', axis=1)\n",
    "y = df_encoded['Churn Value']\n",
    "\n",
    "# Train test split\n",
    "X_train, X_test, y_train, y_test = train_test_split(X, y, test_size=0.15, random_state=42)\n",
    "\n",
    "# Initialize the StandardScaler\n",
    "scaler = StandardScaler()\n",
    "# Initialize the KNN classifier\n",
    "knn = KNeighborsClassifier()\n",
    "\n",
    "# Create a list to be applied in pipeline sequence\n",
    "tools = [('scaler', scaler), ('knn', knn)]\n",
    "\n",
    "pipe = Pipeline(tools)\n",
    "\n",
    "# set k values \n",
    "k_values = list(range(10, 20, 5))\n",
    "\n",
    "# Grid search\n",
    "param_grid = {'knn__n_neighbors': k_values, \n",
    "              'knn__weights': ['uniform', 'distance'],\n",
    "              'knn__p': np.linspace(1,2,5)}\n",
    "\n",
    "# Grid Search\n",
    "full_cv_classifier = GridSearchCV(pipe, param_grid, cv=10, scoring='accuracy')\n",
    "\n",
    "# Fit the model\n",
    "full_cv_classifier.fit(X_train,y_train)\n",
    "\n",
    "# Best Parameters \n",
    "print(f'Best Parameters: {full_cv_classifier.best_estimator_.get_params()}')\n",
    "print('\\n')\n",
    "\n",
    "# Predict on X_test\n",
    "y_pred = full_cv_classifier.predict(X_test)\n",
    "\n",
    "# Confusion Matrix\n",
    "cm = confusion_matrix(y_test, y_pred)\n",
    "print('Confusion Matrix:')\n",
    "print(cm)\n",
    "print('\\n')\n",
    "\n",
    "# Classification report\n",
    "print('Classification Report:')\n",
    "print(classification_report(y_test, y_pred))"
   ]
  },
  {
   "cell_type": "markdown",
   "id": "be9e3b16-4e49-4154-94ab-0c6119532e0a",
   "metadata": {},
   "source": [
    "+ **Accuracy** indicates that **89%** of the predictions made by the model are **correct**.\n",
    "\n",
    "+ For Class **No Churn**:\n",
    "\n",
    "    + **Precision** : Of all the instances predicted as No Churn, **92%** were actually No Churn.\n",
    "    + **Recall**: Of all the actual No Churn instances, **92%** were correctly identified by the model.\n",
    "    + **F1-Score**: indicats a **balanced** performance in identifying No Churn instances.\n",
    "\n",
    "+ For Class **Churn**:\n",
    "\n",
    "    + **Precision**: Of all the instances predicted as Churn, **79%** were actually Churn.\n",
    "    + **Recall**: Of all the actual Churn instances, **79%** were correctly identified by the model.\n",
    "    + **F1-Score**: indicats a **balanced** performance in identifying Churn instances.\n",
    "\n",
    "+ **Confusion Matrix**:\n",
    "\n",
    "    + The model has a good balance between True Positives and True Negatives, with relatively low numbers of False Positives and False Negatives. This balance is crucial for churn prediction as both types of errors can have significant business implications.\n",
    "    + Class Imbalance: The support values (765 for No Churn and 292 for Churn) indicate some class imbalance. Despite this, the model performs well on both classes, although slightly better on the majority class (No Churn)."
   ]
  },
  {
   "cell_type": "markdown",
   "id": "7abdf554-2f99-4659-a5bf-21f044be91af",
   "metadata": {},
   "source": [
    "+ **Note**: The KNN model with the identified best parameters performs well in predicting customer churn, with high accuracy and balanced precision and recall across both classes. The model is particularly strong in identifying customers who will not churn, while still maintaining good performance in identifying those who will churn."
   ]
  },
  {
   "cell_type": "code",
   "execution_count": 52,
   "id": "ae11d430-33b7-46c0-86e1-19c1a86e6d54",
   "metadata": {},
   "outputs": [],
   "source": [
    "# Results with all cols included in the df_enoded\n",
    "\n",
    "#                 precision    recall  f1-score   support\n",
    "\n",
    "#            0       0.89      0.90      0.89       765\n",
    "#            1       0.72      0.71      0.72       292\n",
    "\n",
    "#     accuracy                           0.85      1057\n",
    "#    macro avg       0.81      0.80      0.81      1057\n",
    "# weighted avg       0.85      0.85      0.85      1057"
   ]
  },
  {
   "cell_type": "markdown",
   "id": "d5bd7900-2c93-4169-a556-c521caff6eb8",
   "metadata": {},
   "source": [
    "+ The model's performance has slightly decreased with all columns included, as indicated by the lower accuracy and macro averages. This suggests that some of the additional features might not be as relevant or might introduce noise into the model."
   ]
  },
  {
   "cell_type": "code",
   "execution_count": 54,
   "id": "fcee0e17-2c99-4672-8c56-6fd121a6e0ba",
   "metadata": {},
   "outputs": [],
   "source": [
    "# Results without 'Payment method' and 'Paperless Billing' cols\n",
    "\n",
    "#                 precision    recall  f1-score   support\n",
    "\n",
    "#            0       0.90      0.90      0.90       765\n",
    "#            1       0.73      0.73      0.73       292\n",
    "\n",
    "#     accuracy                           0.85      1057\n",
    "#    macro avg       0.81      0.81      0.81      1057\n",
    "# weighted avg       0.85      0.85      0.85      1057"
   ]
  },
  {
   "cell_type": "markdown",
   "id": "a06ec86b-a57a-442b-a36d-21291ef94585",
   "metadata": {},
   "source": [
    "+ The removal of 'Payment Method' and 'Paperless Billing' columns did not significantly impact the model's overall performance, as the accuracy remained at 0.85."
   ]
  },
  {
   "cell_type": "code",
   "execution_count": 56,
   "id": "b98155b9-209e-4e7d-b129-179747dee749",
   "metadata": {},
   "outputs": [],
   "source": [
    "# Results that dropping 'Total Charges', 'Payment method', and 'Paperless Billing' cols\n",
    "\n",
    "#               precision    recall  f1-score   support\n",
    "\n",
    "#            0       0.89      0.90      0.90       765\n",
    "#            1       0.74      0.72      0.73       292\n",
    "\n",
    "#     accuracy                           0.85      1057\n",
    "#    macro avg       0.82      0.81      0.81      1057\n",
    "# weighted avg       0.85      0.85      0.85      1057"
   ]
  },
  {
   "cell_type": "markdown",
   "id": "c4bf8c84-8e53-465a-aa0d-66665511111c",
   "metadata": {},
   "source": [
    "+ The model performs well in predicting No Churn instances, with high precision and recall, while the performance for Churn instances is moderate. The removal of 'Total Charges', 'Payment Method', and 'Paperless Billing' did not significantly impact the overall accuracy, suggesting that these features were not critical for the model's performance."
   ]
  },
  {
   "cell_type": "markdown",
   "id": "d20f3d8c-af2d-42af-b67c-938a5cae1e60",
   "metadata": {},
   "source": [
    "### 3. Second Model - LogisitcRgression"
   ]
  },
  {
   "cell_type": "code",
   "execution_count": 59,
   "id": "4a08faec-48df-4642-a992-fccb9b51e360",
   "metadata": {},
   "outputs": [
    {
     "name": "stdout",
     "output_type": "stream",
     "text": [
      "Best Parameters: {'lg__C': 0.1, 'lg__max_iter': 500, 'lg__solver': 'liblinear'}\n",
      "\n",
      "\n",
      "Confusion Matrix:\n",
      "[[707  58]\n",
      " [ 47 245]]\n",
      "\n",
      "\n",
      "Classification Report:\n",
      "              precision    recall  f1-score   support\n",
      "\n",
      "           0       0.94      0.92      0.93       765\n",
      "           1       0.81      0.84      0.82       292\n",
      "\n",
      "    accuracy                           0.90      1057\n",
      "   macro avg       0.87      0.88      0.88      1057\n",
      "weighted avg       0.90      0.90      0.90      1057\n",
      "\n"
     ]
    }
   ],
   "source": [
    "# Initialize StandardScaler \n",
    "scaler = StandardScaler()\n",
    "\n",
    "# Initialize LG\n",
    "lg = LogisticRegression() \n",
    "\n",
    "# Create a list to be applied in the pipeline sequence\n",
    "operations = [('scaler',scaler),('lg',lg)]\n",
    "\n",
    "pipe = Pipeline(operations)\n",
    "\n",
    "param_grid = {\n",
    "    'lg__C': [0.01, 0.1, 1],  # Regularization strength\n",
    "    'lg__solver': ['liblinear', 'lbfgs', 'saga'],  # Regularization type\n",
    "    'lg__max_iter':[500, 1000]\n",
    "}\n",
    "\n",
    "# Grid Search\n",
    "grid_search = GridSearchCV(pipe, param_grid, cv=5)  \n",
    "# Fit the model\n",
    "grid_search.fit(X_train, y_train)\n",
    "\n",
    "# Best Parameters \n",
    "print(f'Best Parameters: {grid_search.best_params_}')\n",
    "print('\\n')\n",
    "\n",
    "y_pred_2 = grid_search.predict(X_test)\n",
    "\n",
    "# Confusion Matrix\n",
    "cm = confusion_matrix(y_test, y_pred_2)\n",
    "print('Confusion Matrix:')\n",
    "print(cm)\n",
    "print('\\n')\n",
    "\n",
    "# Classification report\n",
    "print('Classification Report:')\n",
    "print(classification_report(y_test, y_pred_2))"
   ]
  },
  {
   "cell_type": "markdown",
   "id": "5420df28-647e-4442-bd34-e653f548bd60",
   "metadata": {},
   "source": [
    "+ **Accuracy**: The model correctly classifies 90% of the instances, indicating a high overall performance.\n",
    "+ Class **No Churn**:\n",
    "    + **Precision**: Of all instances predicted as No Churn, **94%** were correct.\n",
    "    + **Recall**: Of all actual No Churn instances, **92%** were correctly identified.\n",
    "    + **F1-Score**: This indicates a very strong and **balanced** performance for identifying No Churn instances.\n",
    "+ Class **Churn**:\n",
    "    + **Precision**: Of all instances predicted as Churn, **81%** were correct.\n",
    "    + **Recall**: Of all actual Churn instances, **84%** were correctly identified.\n",
    "    + **F1-Score**: This indicates a strong performance for identifying Churn instances, better than previous models."
   ]
  },
  {
   "cell_type": "markdown",
   "id": "b32c8c0e-921f-43af-a9bc-f1ed30be2dbf",
   "metadata": {},
   "source": [
    "### 4. Third Model - Random Forest"
   ]
  },
  {
   "cell_type": "code",
   "execution_count": 62,
   "id": "e9443914-85da-4305-b94f-1363172fa150",
   "metadata": {},
   "outputs": [
    {
     "name": "stdout",
     "output_type": "stream",
     "text": [
      "Random Forest Classification Report:\n",
      "              precision    recall  f1-score   support\n",
      "\n",
      "           0       0.94      0.95      0.95       765\n",
      "           1       0.86      0.85      0.86       292\n",
      "\n",
      "    accuracy                           0.92      1057\n",
      "   macro avg       0.90      0.90      0.90      1057\n",
      "weighted avg       0.92      0.92      0.92      1057\n",
      "\n"
     ]
    }
   ],
   "source": [
    "random_forest = RandomForestClassifier(random_state=42)\n",
    "\n",
    "# Train and evaluate Random Forest\n",
    "random_forest.fit(X_train, y_train)\n",
    "y_pred_random_forest = random_forest.predict(X_test)\n",
    "print('Random Forest Classification Report:')\n",
    "print(classification_report(y_test,y_pred_random_forest))"
   ]
  },
  {
   "cell_type": "markdown",
   "id": "f4e666f3-d355-4db4-bc8f-4c5d041a4ea8",
   "metadata": {},
   "source": [
    "+ **Accuracy**: The model correctly classifies **92%** of the instances, indicating a high overall performance.\n",
    "+ Class **No Churn**:\n",
    "    + **Precision**: Of all instances predicted as No Churn, **94%** were correct.\n",
    "    + **Recall**: Of all actual No Churn instances, **95%** were correctly identified.\n",
    "    + **F1-Score**: Indicates a very strong and **balanced** performance for identifying No Churn instances.\n",
    "+ Class **Churn**:\n",
    "    + **Precision**: Of all instances predicted as Churn, **86%** were correct.\n",
    "    + **Recall**: Of all actual Churn instances, **85%** were correctly identified.\n",
    "    + **F1-Score**: Indicates a **strong** performance for identifying Churn instances."
   ]
  },
  {
   "cell_type": "markdown",
   "id": "1bac48f5-5400-4f60-94fd-f2f1b1d02611",
   "metadata": {},
   "source": [
    "**Conclusion** : Based on the performance metrics, the **Random Forest** model performs the best overall, with the highest accuracy, precision, recall, and F1-score, especially in identifying both No Churn and Churn instances."
   ]
  },
  {
   "cell_type": "markdown",
   "id": "ead21cea-eb08-4a28-a16f-b264ee84e6e0",
   "metadata": {},
   "source": [
    "### V. Hyperparameter Tuning with GridSearchCV"
   ]
  },
  {
   "cell_type": "markdown",
   "id": "44e0ff92-31d3-416b-affe-0bf1430ca161",
   "metadata": {},
   "source": [
    "Optimize the Random Forest model using GridSearchCV to find the best hyperparameters and evaluate its performance."
   ]
  },
  {
   "cell_type": "code",
   "execution_count": 67,
   "id": "63d7dd20-2fb9-4ec5-8a2f-b4492485e740",
   "metadata": {},
   "outputs": [],
   "source": [
    "# Define parameter grid for Random Forest\n",
    "param_grid = {\n",
    "    'n_estimators': [100, 200, 300],\n",
    "    'max_depth': [None, 10, 20, 30],\n",
    "    'min_samples_split': [2, 5, 10],\n",
    "    'min_samples_leaf': [1, 2, 4]\n",
    "             }"
   ]
  },
  {
   "cell_type": "code",
   "execution_count": 68,
   "id": "153edf9c-dbdf-44cc-94e9-4b4402a85c76",
   "metadata": {},
   "outputs": [
    {
     "data": {
      "text/html": [
       "<style>#sk-container-id-1 {\n",
       "  /* Definition of color scheme common for light and dark mode */\n",
       "  --sklearn-color-text: black;\n",
       "  --sklearn-color-line: gray;\n",
       "  /* Definition of color scheme for unfitted estimators */\n",
       "  --sklearn-color-unfitted-level-0: #fff5e6;\n",
       "  --sklearn-color-unfitted-level-1: #f6e4d2;\n",
       "  --sklearn-color-unfitted-level-2: #ffe0b3;\n",
       "  --sklearn-color-unfitted-level-3: chocolate;\n",
       "  /* Definition of color scheme for fitted estimators */\n",
       "  --sklearn-color-fitted-level-0: #f0f8ff;\n",
       "  --sklearn-color-fitted-level-1: #d4ebff;\n",
       "  --sklearn-color-fitted-level-2: #b3dbfd;\n",
       "  --sklearn-color-fitted-level-3: cornflowerblue;\n",
       "\n",
       "  /* Specific color for light theme */\n",
       "  --sklearn-color-text-on-default-background: var(--sg-text-color, var(--theme-code-foreground, var(--jp-content-font-color1, black)));\n",
       "  --sklearn-color-background: var(--sg-background-color, var(--theme-background, var(--jp-layout-color0, white)));\n",
       "  --sklearn-color-border-box: var(--sg-text-color, var(--theme-code-foreground, var(--jp-content-font-color1, black)));\n",
       "  --sklearn-color-icon: #696969;\n",
       "\n",
       "  @media (prefers-color-scheme: dark) {\n",
       "    /* Redefinition of color scheme for dark theme */\n",
       "    --sklearn-color-text-on-default-background: var(--sg-text-color, var(--theme-code-foreground, var(--jp-content-font-color1, white)));\n",
       "    --sklearn-color-background: var(--sg-background-color, var(--theme-background, var(--jp-layout-color0, #111)));\n",
       "    --sklearn-color-border-box: var(--sg-text-color, var(--theme-code-foreground, var(--jp-content-font-color1, white)));\n",
       "    --sklearn-color-icon: #878787;\n",
       "  }\n",
       "}\n",
       "\n",
       "#sk-container-id-1 {\n",
       "  color: var(--sklearn-color-text);\n",
       "}\n",
       "\n",
       "#sk-container-id-1 pre {\n",
       "  padding: 0;\n",
       "}\n",
       "\n",
       "#sk-container-id-1 input.sk-hidden--visually {\n",
       "  border: 0;\n",
       "  clip: rect(1px 1px 1px 1px);\n",
       "  clip: rect(1px, 1px, 1px, 1px);\n",
       "  height: 1px;\n",
       "  margin: -1px;\n",
       "  overflow: hidden;\n",
       "  padding: 0;\n",
       "  position: absolute;\n",
       "  width: 1px;\n",
       "}\n",
       "\n",
       "#sk-container-id-1 div.sk-dashed-wrapped {\n",
       "  border: 1px dashed var(--sklearn-color-line);\n",
       "  margin: 0 0.4em 0.5em 0.4em;\n",
       "  box-sizing: border-box;\n",
       "  padding-bottom: 0.4em;\n",
       "  background-color: var(--sklearn-color-background);\n",
       "}\n",
       "\n",
       "#sk-container-id-1 div.sk-container {\n",
       "  /* jupyter's `normalize.less` sets `[hidden] { display: none; }`\n",
       "     but bootstrap.min.css set `[hidden] { display: none !important; }`\n",
       "     so we also need the `!important` here to be able to override the\n",
       "     default hidden behavior on the sphinx rendered scikit-learn.org.\n",
       "     See: https://github.com/scikit-learn/scikit-learn/issues/21755 */\n",
       "  display: inline-block !important;\n",
       "  position: relative;\n",
       "}\n",
       "\n",
       "#sk-container-id-1 div.sk-text-repr-fallback {\n",
       "  display: none;\n",
       "}\n",
       "\n",
       "div.sk-parallel-item,\n",
       "div.sk-serial,\n",
       "div.sk-item {\n",
       "  /* draw centered vertical line to link estimators */\n",
       "  background-image: linear-gradient(var(--sklearn-color-text-on-default-background), var(--sklearn-color-text-on-default-background));\n",
       "  background-size: 2px 100%;\n",
       "  background-repeat: no-repeat;\n",
       "  background-position: center center;\n",
       "}\n",
       "\n",
       "/* Parallel-specific style estimator block */\n",
       "\n",
       "#sk-container-id-1 div.sk-parallel-item::after {\n",
       "  content: \"\";\n",
       "  width: 100%;\n",
       "  border-bottom: 2px solid var(--sklearn-color-text-on-default-background);\n",
       "  flex-grow: 1;\n",
       "}\n",
       "\n",
       "#sk-container-id-1 div.sk-parallel {\n",
       "  display: flex;\n",
       "  align-items: stretch;\n",
       "  justify-content: center;\n",
       "  background-color: var(--sklearn-color-background);\n",
       "  position: relative;\n",
       "}\n",
       "\n",
       "#sk-container-id-1 div.sk-parallel-item {\n",
       "  display: flex;\n",
       "  flex-direction: column;\n",
       "}\n",
       "\n",
       "#sk-container-id-1 div.sk-parallel-item:first-child::after {\n",
       "  align-self: flex-end;\n",
       "  width: 50%;\n",
       "}\n",
       "\n",
       "#sk-container-id-1 div.sk-parallel-item:last-child::after {\n",
       "  align-self: flex-start;\n",
       "  width: 50%;\n",
       "}\n",
       "\n",
       "#sk-container-id-1 div.sk-parallel-item:only-child::after {\n",
       "  width: 0;\n",
       "}\n",
       "\n",
       "/* Serial-specific style estimator block */\n",
       "\n",
       "#sk-container-id-1 div.sk-serial {\n",
       "  display: flex;\n",
       "  flex-direction: column;\n",
       "  align-items: center;\n",
       "  background-color: var(--sklearn-color-background);\n",
       "  padding-right: 1em;\n",
       "  padding-left: 1em;\n",
       "}\n",
       "\n",
       "\n",
       "/* Toggleable style: style used for estimator/Pipeline/ColumnTransformer box that is\n",
       "clickable and can be expanded/collapsed.\n",
       "- Pipeline and ColumnTransformer use this feature and define the default style\n",
       "- Estimators will overwrite some part of the style using the `sk-estimator` class\n",
       "*/\n",
       "\n",
       "/* Pipeline and ColumnTransformer style (default) */\n",
       "\n",
       "#sk-container-id-1 div.sk-toggleable {\n",
       "  /* Default theme specific background. It is overwritten whether we have a\n",
       "  specific estimator or a Pipeline/ColumnTransformer */\n",
       "  background-color: var(--sklearn-color-background);\n",
       "}\n",
       "\n",
       "/* Toggleable label */\n",
       "#sk-container-id-1 label.sk-toggleable__label {\n",
       "  cursor: pointer;\n",
       "  display: block;\n",
       "  width: 100%;\n",
       "  margin-bottom: 0;\n",
       "  padding: 0.5em;\n",
       "  box-sizing: border-box;\n",
       "  text-align: center;\n",
       "}\n",
       "\n",
       "#sk-container-id-1 label.sk-toggleable__label-arrow:before {\n",
       "  /* Arrow on the left of the label */\n",
       "  content: \"▸\";\n",
       "  float: left;\n",
       "  margin-right: 0.25em;\n",
       "  color: var(--sklearn-color-icon);\n",
       "}\n",
       "\n",
       "#sk-container-id-1 label.sk-toggleable__label-arrow:hover:before {\n",
       "  color: var(--sklearn-color-text);\n",
       "}\n",
       "\n",
       "/* Toggleable content - dropdown */\n",
       "\n",
       "#sk-container-id-1 div.sk-toggleable__content {\n",
       "  max-height: 0;\n",
       "  max-width: 0;\n",
       "  overflow: hidden;\n",
       "  text-align: left;\n",
       "  /* unfitted */\n",
       "  background-color: var(--sklearn-color-unfitted-level-0);\n",
       "}\n",
       "\n",
       "#sk-container-id-1 div.sk-toggleable__content.fitted {\n",
       "  /* fitted */\n",
       "  background-color: var(--sklearn-color-fitted-level-0);\n",
       "}\n",
       "\n",
       "#sk-container-id-1 div.sk-toggleable__content pre {\n",
       "  margin: 0.2em;\n",
       "  border-radius: 0.25em;\n",
       "  color: var(--sklearn-color-text);\n",
       "  /* unfitted */\n",
       "  background-color: var(--sklearn-color-unfitted-level-0);\n",
       "}\n",
       "\n",
       "#sk-container-id-1 div.sk-toggleable__content.fitted pre {\n",
       "  /* unfitted */\n",
       "  background-color: var(--sklearn-color-fitted-level-0);\n",
       "}\n",
       "\n",
       "#sk-container-id-1 input.sk-toggleable__control:checked~div.sk-toggleable__content {\n",
       "  /* Expand drop-down */\n",
       "  max-height: 200px;\n",
       "  max-width: 100%;\n",
       "  overflow: auto;\n",
       "}\n",
       "\n",
       "#sk-container-id-1 input.sk-toggleable__control:checked~label.sk-toggleable__label-arrow:before {\n",
       "  content: \"▾\";\n",
       "}\n",
       "\n",
       "/* Pipeline/ColumnTransformer-specific style */\n",
       "\n",
       "#sk-container-id-1 div.sk-label input.sk-toggleable__control:checked~label.sk-toggleable__label {\n",
       "  color: var(--sklearn-color-text);\n",
       "  background-color: var(--sklearn-color-unfitted-level-2);\n",
       "}\n",
       "\n",
       "#sk-container-id-1 div.sk-label.fitted input.sk-toggleable__control:checked~label.sk-toggleable__label {\n",
       "  background-color: var(--sklearn-color-fitted-level-2);\n",
       "}\n",
       "\n",
       "/* Estimator-specific style */\n",
       "\n",
       "/* Colorize estimator box */\n",
       "#sk-container-id-1 div.sk-estimator input.sk-toggleable__control:checked~label.sk-toggleable__label {\n",
       "  /* unfitted */\n",
       "  background-color: var(--sklearn-color-unfitted-level-2);\n",
       "}\n",
       "\n",
       "#sk-container-id-1 div.sk-estimator.fitted input.sk-toggleable__control:checked~label.sk-toggleable__label {\n",
       "  /* fitted */\n",
       "  background-color: var(--sklearn-color-fitted-level-2);\n",
       "}\n",
       "\n",
       "#sk-container-id-1 div.sk-label label.sk-toggleable__label,\n",
       "#sk-container-id-1 div.sk-label label {\n",
       "  /* The background is the default theme color */\n",
       "  color: var(--sklearn-color-text-on-default-background);\n",
       "}\n",
       "\n",
       "/* On hover, darken the color of the background */\n",
       "#sk-container-id-1 div.sk-label:hover label.sk-toggleable__label {\n",
       "  color: var(--sklearn-color-text);\n",
       "  background-color: var(--sklearn-color-unfitted-level-2);\n",
       "}\n",
       "\n",
       "/* Label box, darken color on hover, fitted */\n",
       "#sk-container-id-1 div.sk-label.fitted:hover label.sk-toggleable__label.fitted {\n",
       "  color: var(--sklearn-color-text);\n",
       "  background-color: var(--sklearn-color-fitted-level-2);\n",
       "}\n",
       "\n",
       "/* Estimator label */\n",
       "\n",
       "#sk-container-id-1 div.sk-label label {\n",
       "  font-family: monospace;\n",
       "  font-weight: bold;\n",
       "  display: inline-block;\n",
       "  line-height: 1.2em;\n",
       "}\n",
       "\n",
       "#sk-container-id-1 div.sk-label-container {\n",
       "  text-align: center;\n",
       "}\n",
       "\n",
       "/* Estimator-specific */\n",
       "#sk-container-id-1 div.sk-estimator {\n",
       "  font-family: monospace;\n",
       "  border: 1px dotted var(--sklearn-color-border-box);\n",
       "  border-radius: 0.25em;\n",
       "  box-sizing: border-box;\n",
       "  margin-bottom: 0.5em;\n",
       "  /* unfitted */\n",
       "  background-color: var(--sklearn-color-unfitted-level-0);\n",
       "}\n",
       "\n",
       "#sk-container-id-1 div.sk-estimator.fitted {\n",
       "  /* fitted */\n",
       "  background-color: var(--sklearn-color-fitted-level-0);\n",
       "}\n",
       "\n",
       "/* on hover */\n",
       "#sk-container-id-1 div.sk-estimator:hover {\n",
       "  /* unfitted */\n",
       "  background-color: var(--sklearn-color-unfitted-level-2);\n",
       "}\n",
       "\n",
       "#sk-container-id-1 div.sk-estimator.fitted:hover {\n",
       "  /* fitted */\n",
       "  background-color: var(--sklearn-color-fitted-level-2);\n",
       "}\n",
       "\n",
       "/* Specification for estimator info (e.g. \"i\" and \"?\") */\n",
       "\n",
       "/* Common style for \"i\" and \"?\" */\n",
       "\n",
       ".sk-estimator-doc-link,\n",
       "a:link.sk-estimator-doc-link,\n",
       "a:visited.sk-estimator-doc-link {\n",
       "  float: right;\n",
       "  font-size: smaller;\n",
       "  line-height: 1em;\n",
       "  font-family: monospace;\n",
       "  background-color: var(--sklearn-color-background);\n",
       "  border-radius: 1em;\n",
       "  height: 1em;\n",
       "  width: 1em;\n",
       "  text-decoration: none !important;\n",
       "  margin-left: 1ex;\n",
       "  /* unfitted */\n",
       "  border: var(--sklearn-color-unfitted-level-1) 1pt solid;\n",
       "  color: var(--sklearn-color-unfitted-level-1);\n",
       "}\n",
       "\n",
       ".sk-estimator-doc-link.fitted,\n",
       "a:link.sk-estimator-doc-link.fitted,\n",
       "a:visited.sk-estimator-doc-link.fitted {\n",
       "  /* fitted */\n",
       "  border: var(--sklearn-color-fitted-level-1) 1pt solid;\n",
       "  color: var(--sklearn-color-fitted-level-1);\n",
       "}\n",
       "\n",
       "/* On hover */\n",
       "div.sk-estimator:hover .sk-estimator-doc-link:hover,\n",
       ".sk-estimator-doc-link:hover,\n",
       "div.sk-label-container:hover .sk-estimator-doc-link:hover,\n",
       ".sk-estimator-doc-link:hover {\n",
       "  /* unfitted */\n",
       "  background-color: var(--sklearn-color-unfitted-level-3);\n",
       "  color: var(--sklearn-color-background);\n",
       "  text-decoration: none;\n",
       "}\n",
       "\n",
       "div.sk-estimator.fitted:hover .sk-estimator-doc-link.fitted:hover,\n",
       ".sk-estimator-doc-link.fitted:hover,\n",
       "div.sk-label-container:hover .sk-estimator-doc-link.fitted:hover,\n",
       ".sk-estimator-doc-link.fitted:hover {\n",
       "  /* fitted */\n",
       "  background-color: var(--sklearn-color-fitted-level-3);\n",
       "  color: var(--sklearn-color-background);\n",
       "  text-decoration: none;\n",
       "}\n",
       "\n",
       "/* Span, style for the box shown on hovering the info icon */\n",
       ".sk-estimator-doc-link span {\n",
       "  display: none;\n",
       "  z-index: 9999;\n",
       "  position: relative;\n",
       "  font-weight: normal;\n",
       "  right: .2ex;\n",
       "  padding: .5ex;\n",
       "  margin: .5ex;\n",
       "  width: min-content;\n",
       "  min-width: 20ex;\n",
       "  max-width: 50ex;\n",
       "  color: var(--sklearn-color-text);\n",
       "  box-shadow: 2pt 2pt 4pt #999;\n",
       "  /* unfitted */\n",
       "  background: var(--sklearn-color-unfitted-level-0);\n",
       "  border: .5pt solid var(--sklearn-color-unfitted-level-3);\n",
       "}\n",
       "\n",
       ".sk-estimator-doc-link.fitted span {\n",
       "  /* fitted */\n",
       "  background: var(--sklearn-color-fitted-level-0);\n",
       "  border: var(--sklearn-color-fitted-level-3);\n",
       "}\n",
       "\n",
       ".sk-estimator-doc-link:hover span {\n",
       "  display: block;\n",
       "}\n",
       "\n",
       "/* \"?\"-specific style due to the `<a>` HTML tag */\n",
       "\n",
       "#sk-container-id-1 a.estimator_doc_link {\n",
       "  float: right;\n",
       "  font-size: 1rem;\n",
       "  line-height: 1em;\n",
       "  font-family: monospace;\n",
       "  background-color: var(--sklearn-color-background);\n",
       "  border-radius: 1rem;\n",
       "  height: 1rem;\n",
       "  width: 1rem;\n",
       "  text-decoration: none;\n",
       "  /* unfitted */\n",
       "  color: var(--sklearn-color-unfitted-level-1);\n",
       "  border: var(--sklearn-color-unfitted-level-1) 1pt solid;\n",
       "}\n",
       "\n",
       "#sk-container-id-1 a.estimator_doc_link.fitted {\n",
       "  /* fitted */\n",
       "  border: var(--sklearn-color-fitted-level-1) 1pt solid;\n",
       "  color: var(--sklearn-color-fitted-level-1);\n",
       "}\n",
       "\n",
       "/* On hover */\n",
       "#sk-container-id-1 a.estimator_doc_link:hover {\n",
       "  /* unfitted */\n",
       "  background-color: var(--sklearn-color-unfitted-level-3);\n",
       "  color: var(--sklearn-color-background);\n",
       "  text-decoration: none;\n",
       "}\n",
       "\n",
       "#sk-container-id-1 a.estimator_doc_link.fitted:hover {\n",
       "  /* fitted */\n",
       "  background-color: var(--sklearn-color-fitted-level-3);\n",
       "}\n",
       "</style><div id=\"sk-container-id-1\" class=\"sk-top-container\"><div class=\"sk-text-repr-fallback\"><pre>GridSearchCV(cv=5, estimator=RandomForestClassifier(random_state=42), n_jobs=-1,\n",
       "             param_grid={&#x27;max_depth&#x27;: [None, 10, 20, 30],\n",
       "                         &#x27;min_samples_leaf&#x27;: [1, 2, 4],\n",
       "                         &#x27;min_samples_split&#x27;: [2, 5, 10],\n",
       "                         &#x27;n_estimators&#x27;: [100, 200, 300]},\n",
       "             scoring=&#x27;accuracy&#x27;)</pre><b>In a Jupyter environment, please rerun this cell to show the HTML representation or trust the notebook. <br />On GitHub, the HTML representation is unable to render, please try loading this page with nbviewer.org.</b></div><div class=\"sk-container\" hidden><div class=\"sk-item sk-dashed-wrapped\"><div class=\"sk-label-container\"><div class=\"sk-label fitted sk-toggleable\"><input class=\"sk-toggleable__control sk-hidden--visually\" id=\"sk-estimator-id-1\" type=\"checkbox\" ><label for=\"sk-estimator-id-1\" class=\"sk-toggleable__label fitted sk-toggleable__label-arrow fitted\">&nbsp;&nbsp;GridSearchCV<a class=\"sk-estimator-doc-link fitted\" rel=\"noreferrer\" target=\"_blank\" href=\"https://scikit-learn.org/1.4/modules/generated/sklearn.model_selection.GridSearchCV.html\">?<span>Documentation for GridSearchCV</span></a><span class=\"sk-estimator-doc-link fitted\">i<span>Fitted</span></span></label><div class=\"sk-toggleable__content fitted\"><pre>GridSearchCV(cv=5, estimator=RandomForestClassifier(random_state=42), n_jobs=-1,\n",
       "             param_grid={&#x27;max_depth&#x27;: [None, 10, 20, 30],\n",
       "                         &#x27;min_samples_leaf&#x27;: [1, 2, 4],\n",
       "                         &#x27;min_samples_split&#x27;: [2, 5, 10],\n",
       "                         &#x27;n_estimators&#x27;: [100, 200, 300]},\n",
       "             scoring=&#x27;accuracy&#x27;)</pre></div> </div></div><div class=\"sk-parallel\"><div class=\"sk-parallel-item\"><div class=\"sk-item\"><div class=\"sk-label-container\"><div class=\"sk-label fitted sk-toggleable\"><input class=\"sk-toggleable__control sk-hidden--visually\" id=\"sk-estimator-id-2\" type=\"checkbox\" ><label for=\"sk-estimator-id-2\" class=\"sk-toggleable__label fitted sk-toggleable__label-arrow fitted\">estimator: RandomForestClassifier</label><div class=\"sk-toggleable__content fitted\"><pre>RandomForestClassifier(random_state=42)</pre></div> </div></div><div class=\"sk-serial\"><div class=\"sk-item\"><div class=\"sk-estimator fitted sk-toggleable\"><input class=\"sk-toggleable__control sk-hidden--visually\" id=\"sk-estimator-id-3\" type=\"checkbox\" ><label for=\"sk-estimator-id-3\" class=\"sk-toggleable__label fitted sk-toggleable__label-arrow fitted\">&nbsp;RandomForestClassifier<a class=\"sk-estimator-doc-link fitted\" rel=\"noreferrer\" target=\"_blank\" href=\"https://scikit-learn.org/1.4/modules/generated/sklearn.ensemble.RandomForestClassifier.html\">?<span>Documentation for RandomForestClassifier</span></a></label><div class=\"sk-toggleable__content fitted\"><pre>RandomForestClassifier(random_state=42)</pre></div> </div></div></div></div></div></div></div></div></div>"
      ],
      "text/plain": [
       "GridSearchCV(cv=5, estimator=RandomForestClassifier(random_state=42), n_jobs=-1,\n",
       "             param_grid={'max_depth': [None, 10, 20, 30],\n",
       "                         'min_samples_leaf': [1, 2, 4],\n",
       "                         'min_samples_split': [2, 5, 10],\n",
       "                         'n_estimators': [100, 200, 300]},\n",
       "             scoring='accuracy')"
      ]
     },
     "execution_count": 68,
     "metadata": {},
     "output_type": "execute_result"
    }
   ],
   "source": [
    "# Initialize GridSearchCV with Random Forest\n",
    "grid_search = GridSearchCV(estimator=random_forest, param_grid=param_grid, cv=5, n_jobs=-1, scoring='accuracy')\n",
    "\n",
    "# Fit GridSearchCV\n",
    "grid_search.fit(X_train, y_train)"
   ]
  },
  {
   "cell_type": "code",
   "execution_count": 69,
   "id": "c752a166-84bb-4ae1-8541-2bc72cd1cfc6",
   "metadata": {},
   "outputs": [
    {
     "name": "stdout",
     "output_type": "stream",
     "text": [
      "The best parameters : {'max_depth': 10, 'min_samples_leaf': 1, 'min_samples_split': 2, 'n_estimators': 100}\n"
     ]
    }
   ],
   "source": [
    "# Get the best parameters and best estimator\n",
    "best_params = grid_search.best_params_\n",
    "print(\"The best parameters :\",best_params)"
   ]
  },
  {
   "cell_type": "code",
   "execution_count": 70,
   "id": "a4b0d714-8e06-4e94-965d-2700142ece9d",
   "metadata": {},
   "outputs": [
    {
     "name": "stdout",
     "output_type": "stream",
     "text": [
      "Best Random Forest Classification Report:\n",
      "              precision    recall  f1-score   support\n",
      "\n",
      "           0       0.94      0.95      0.94       765\n",
      "           1       0.86      0.84      0.85       292\n",
      "\n",
      "    accuracy                           0.92      1057\n",
      "   macro avg       0.90      0.89      0.90      1057\n",
      "weighted avg       0.92      0.92      0.92      1057\n",
      "\n"
     ]
    }
   ],
   "source": [
    "best_random_forest = grid_search.best_estimator_\n",
    "\n",
    "# Evaluate the best model\n",
    "\n",
    "y_pred_best_rf = best_random_forest.predict(X_test)\n",
    "print('Best Random Forest Classification Report:')\n",
    "print(classification_report(y_test,y_pred_best_rf))"
   ]
  },
  {
   "cell_type": "markdown",
   "id": "cce4c51c-472e-4759-bf7f-a1e15fb3293b",
   "metadata": {},
   "source": [
    "+ The Random Forest model demonstrates high accuracy of 92% in predicting customer churn.\n",
    "+ The performance metrics (precision, recall, F1-score) for both classes are strong, with particularly high performance for the No Churn class.\n",
    "+ The Churn class also shows good performance, but with slightly lower precision and recall compared to the No Churn class.\n",
    "+ Overall, the model is reliable and effective in predicting customer churn, with a balanced performance across both classes."
   ]
  },
  {
   "cell_type": "markdown",
   "id": "fffa496a-a2c5-4dcc-a80d-d388d4543664",
   "metadata": {},
   "source": [
    "### VI. Making Predictions on New Data"
   ]
  },
  {
   "cell_type": "markdown",
   "id": "01305fe5-9bf0-4f34-8786-36c116b38eda",
   "metadata": {},
   "source": [
    "Use the trained Random Forest model to make predictions on new data."
   ]
  },
  {
   "cell_type": "markdown",
   "id": "bbccd067-5481-4670-abec-2f4027aeaa8a",
   "metadata": {},
   "source": [
    "#### 1. Prepare New Input Data"
   ]
  },
  {
   "cell_type": "code",
   "execution_count": 75,
   "id": "e8e554f7-6acc-45df-bb7b-8690b31e9f53",
   "metadata": {},
   "outputs": [],
   "source": [
    "# New input data\n",
    "new_input = {'Gender': 'Male',\n",
    "             'Senior Citizen': 'Yes',\n",
    "             'Partner': 'Yes',\n",
    "             'Dependents': 'Yes',\n",
    "             'Tenure Months': 34,\n",
    "             'Phone Service': 'Yes',\n",
    "             'Multiple Lines': 'Yes',\n",
    "             'Internet Service': 'Fiber optic',\n",
    "             'Monthly Charges': 108.9,\n",
    "             'Churn Value': 0,  # Drop this column later\n",
    "             'Churn Score': 24,\n",
    "             'CLTV': 5151,\n",
    "             'Contract': 'Month-to-month'}"
   ]
  },
  {
   "cell_type": "code",
   "execution_count": 76,
   "id": "72236333-d5c8-482f-9ee4-f284e71bd548",
   "metadata": {},
   "outputs": [],
   "source": [
    "# Convert dictionary to DataFrame\n",
    "new_input_df = pd.DataFrame([new_input])\n",
    "\n",
    "# Drop the target column 'Churn Value'\n",
    "new_input_df = new_input_df.drop('Churn Value', axis=1)"
   ]
  },
  {
   "cell_type": "markdown",
   "id": "59eb4369-38e3-4774-bdb0-6ad9fbaeafd2",
   "metadata": {},
   "source": [
    "#### 2. Encode and Standardize New Input Data"
   ]
  },
  {
   "cell_type": "code",
   "execution_count": 81,
   "id": "6db2a727-7dce-4cc1-9a7d-6f3844f10d52",
   "metadata": {},
   "outputs": [],
   "source": [
    "# Encode categorical cols\n",
    "cols_to_enco = ['Gender', 'Senior Citizen', 'Partner', 'Dependents', \n",
    "                'Phone Service', 'Multiple Lines', 'Internet Service', 'Contract']\n",
    "                 \n",
    "encoder = OneHotEncoder(sparse_output=False)\n",
    "\n",
    "# Encode categorical columns\n",
    "encoded_new_columns = encoder.fit_transform(new_input_df[cols_to_enco])\n",
    "encoded_new_df = pd.DataFrame(encoded_new_columns, columns=encoder.get_feature_names_out(cols_to_enco))\n",
    "\n",
    "# Combine the original DataFrame with encoded columns\n",
    "new_df_encoded = pd.concat([new_input_df.drop(columns=cols_to_enco), encoded_new_df], axis=1)"
   ]
  },
  {
   "cell_type": "code",
   "execution_count": 83,
   "id": "bd232837-0124-4f0d-8192-af2f833a729b",
   "metadata": {},
   "outputs": [],
   "source": [
    "# Add any missing columns with default values (0)\n",
    "expected_columns = X_train.columns\n",
    "for col in expected_columns:\n",
    "    if col not in new_df_encoded.columns:\n",
    "        new_df_encoded[col] = 0\n",
    "\n",
    "# Reorder the columns to match the expected order\n",
    "new_df_encoded = new_df_encoded[expected_columns]"
   ]
  },
  {
   "cell_type": "markdown",
   "id": "e685b932-d065-4f5d-84d8-e7ce806d0d22",
   "metadata": {},
   "source": [
    "#### 3. Make Predictions Using The Trained Model (Random Forest)"
   ]
  },
  {
   "cell_type": "code",
   "execution_count": 86,
   "id": "fb0a4909-0e78-4f71-88ff-2daddb8b97ae",
   "metadata": {},
   "outputs": [
    {
     "name": "stdout",
     "output_type": "stream",
     "text": [
      "The prediction result is 0, which means the customer will not churn.\n"
     ]
    }
   ],
   "source": [
    "# Make predictions using the fitted scaler and encoder\n",
    "y_predict = best_random_forest.predict(new_df_encoded)\n",
    "\n",
    "# Interpretation of the prediction result\n",
    "if y_predict[0] == 0:\n",
    "    print(f\"The prediction result is {y_predict[0]}, which means the customer will not churn.\")\n",
    "else:\n",
    "    print(f\"The prediction result is {y_predict[0]}, which means the customer will churn.\")"
   ]
  },
  {
   "cell_type": "markdown",
   "id": "a868d91e-46d3-41bd-9275-7476d91db37c",
   "metadata": {},
   "source": [
    "### VII. Conclusion: "
   ]
  },
  {
   "cell_type": "markdown",
   "id": "2d4b1752-f2ed-4bd9-9d94-7ac00ef36b72",
   "metadata": {},
   "source": [
    "In this project, we successfully built and evaluated several models to predict customer churn for a fictional telecommunications company. Our analysis included data preprocessing, exploratory data analysis, feature engineering, and model training. We tested various classification algorithms, including K-Nearest Neighbors, Logistic Regression, and Random Forests. The Random Forest model with hyperparameter tuning provided the best performance.\n",
    "\n",
    "By accurately predicting customer churn, the company can proactively address customer issues, improve retention strategies, and ultimately increase profitability. This project demonstrates the importance of churn analysis and predictive modeling in customer relationship management."
   ]
  }
 ],
 "metadata": {
  "kernelspec": {
   "display_name": "Python 3 (ipykernel)",
   "language": "python",
   "name": "python3"
  },
  "language_info": {
   "codemirror_mode": {
    "name": "ipython",
    "version": 3
   },
   "file_extension": ".py",
   "mimetype": "text/x-python",
   "name": "python",
   "nbconvert_exporter": "python",
   "pygments_lexer": "ipython3",
   "version": "3.12.4"
  }
 },
 "nbformat": 4,
 "nbformat_minor": 5
}
